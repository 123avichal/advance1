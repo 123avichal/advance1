{
 "cells": [
  {
   "cell_type": "markdown",
   "id": "0113ad8c-b789-42ce-922a-5e251c77873c",
   "metadata": {},
   "source": [
    "Q1. What is the Probability density function?"
   ]
  },
  {
   "cell_type": "markdown",
   "id": "d1bbba88-14f7-49ad-9a74-906c8f0bdf8b",
   "metadata": {},
   "source": [
    "The Probability Density Function(PDF) defines the probability function representing the density of a continuous random variable lying between a specific range of values. In other words, the probability density function produces the likelihood of values of the continuous random variable."
   ]
  },
  {
   "cell_type": "markdown",
   "id": "666dc848-8fbb-4672-b5b0-7cad0aed4b4c",
   "metadata": {},
   "source": [
    "Q2. What are the types of Probability distribution?"
   ]
  },
  {
   "cell_type": "markdown",
   "id": "137b3bc8-233f-449a-8399-baa6218a11e6",
   "metadata": {},
   "source": [
    "There are two types of probability distribution which are used for different purposes and various types of the data generation process.\n",
    "\n",
    "Normal or Cumulative Probability Distribution\n",
    "Binomial or Discrete Probability Distribution\n",
    "\n",
    "Cumulative Probability Distribution\n",
    "The cumulative probability distribution is also known as a continuous probability distribution. In this distribution, the set of possible outcomes can take on values in a continuous range.\n",
    "\n",
    "Normal Distribution Examples\n",
    "Since the normal distribution statistics estimates many natural events so well, it has evolved into a standard of recommendation for many probability queries. \n",
    "\n",
    "Discrete Probability Distribution\n",
    "A distribution is called a discrete probability distribution, where the set of outcomes are discrete in nature.\n",
    "\n",
    "For example, if a dice is rolled, then all the possible outcomes are discrete and give a mass of outcomes. It is also known as the probability mass function."
   ]
  },
  {
   "cell_type": "markdown",
   "id": "73dd6077-0cd6-458e-b4a3-11b5eeb97f12",
   "metadata": {},
   "source": [
    "Q3. Write a Python function to calculate the probability density function of a normal distribution with\n",
    "given mean and standard deviation at a given point."
   ]
  },
  {
   "cell_type": "code",
   "execution_count": 39,
   "id": "f48b771b-6895-4017-9fb5-ebbc5df56182",
   "metadata": {},
   "outputs": [
    {
     "name": "stdout",
     "output_type": "stream",
     "text": [
      "the probability density function of a normal distribution is 0.0653630362965395\n"
     ]
    }
   ],
   "source": [
    "from scipy.stats import norm\n",
    "import numpy as np\n",
    "data=np.linspace(-7,11,10)\n",
    "mean=data.mean()\n",
    "std=data.std()\n",
    "pdf=norm.pdf(4,mean,std)\n",
    "print(f'the probability density function of a normal distribution is {pdf}')"
   ]
  },
  {
   "cell_type": "markdown",
   "id": "c6804b69-73ab-46c7-beef-5a79db32cb05",
   "metadata": {},
   "source": [
    "\n",
    "Q4. What are the properties of Binomial distribution? Give two examples of events where binomial\n",
    "distribution can be applied."
   ]
  },
  {
   "cell_type": "markdown",
   "id": "3145d422-4450-4d61-90e5-668e09644388",
   "metadata": {},
   "source": [
    "A binomial experiment is one that has the following properties: (1) The experiment consists of n identical trials. (2) Each trial results in one of the two outcomes, called a success S and failure F. (3) The probability of success on a single trial is equal to p and remains the same from trial to trial.\n",
    "\n",
    "Rolling a die\n",
    "Tossing a coin"
   ]
  },
  {
   "cell_type": "code",
   "execution_count": null,
   "id": "8f723be4-295a-45a2-8737-fac71fb66d9f",
   "metadata": {},
   "outputs": [
    {
     "ename": "SyntaxError",
     "evalue": "invalid syntax (263211097.py, line 1)",
     "output_type": "error",
     "traceback": [
      "\u001b[0;36m  Cell \u001b[0;32mIn[40], line 1\u001b[0;36m\u001b[0m\n\u001b[0;31m    Q6. Write a Python function to calculate the cumulative distribution function of a Poisson distribution\u001b[0m\n\u001b[0m              ^\u001b[0m\n\u001b[0;31mSyntaxError\u001b[0m\u001b[0;31m:\u001b[0m invalid syntax\n"
     ]
    }
   ],
   "source": [
    "Q6. Write a Python function to calculate the cumulative distribution function of a Poisson distribution\n",
    "with given mean at a given point."
   ]
  },
  {
   "cell_type": "code",
   "execution_count": 41,
   "id": "8446cb3b-23bc-4a5d-9d80-7dc9b8b42e5f",
   "metadata": {},
   "outputs": [
    {
     "data": {
      "text/plain": [
       "0.05496364149510497"
      ]
     },
     "execution_count": 41,
     "metadata": {},
     "output_type": "execute_result"
    }
   ],
   "source": [
    "from scipy.stats import poisson\n",
    "import numpy as np\n",
    "data=np.linspace(7,11,10)\n",
    "mean=np.mean(data)\n",
    "k =4\n",
    "poisson.cdf(k,mean)"
   ]
  },
  {
   "cell_type": "markdown",
   "id": "be22b16d-7eb5-47c5-8e4f-d091e0df0474",
   "metadata": {},
   "source": [
    "Q7. How Binomial distribution different from Poisson distribution?"
   ]
  },
  {
   "cell_type": "markdown",
   "id": "bea9ace3-338c-4fd8-b5c5-44f781458060",
   "metadata": {},
   "source": [
    "The distributions share the following key difference: In a Binomial distribution, there is a fixed number of trials (e.g. flip a coin 3 times) In a Poisson distribution, there could be any number of events that occur during a certain time interval\n",
    "in poisson mean=variance\n",
    "in binomial mean>variance"
   ]
  },
  {
   "cell_type": "markdown",
   "id": "e2345d08-bd01-4844-b5ca-01afd7e6a522",
   "metadata": {},
   "source": [
    "Q8. Generate a random sample of size 1000 from a Poisson distribution with mean 5 and calculate the\n",
    "sample mean and variance."
   ]
  },
  {
   "cell_type": "code",
   "execution_count": null,
   "id": "37d58c2a-86e6-49a0-95a9-893b3c3dbdf2",
   "metadata": {},
   "outputs": [],
   "source": []
  },
  {
   "cell_type": "code",
   "execution_count": null,
   "id": "a35908b2-36de-4811-baf6-ccfb17802cf0",
   "metadata": {},
   "outputs": [],
   "source": [
    "from scipy import stats as st\n",
    "import random as rd\n",
    "import numpy as np"
   ]
  },
  {
   "cell_type": "code",
   "execution_count": 45,
   "id": "27d4bb6a-e9d4-4373-9199-36a51d99ba29",
   "metadata": {},
   "outputs": [
    {
     "data": {
      "text/plain": [
       "2.1478905012477998e-284"
      ]
     },
     "execution_count": 45,
     "metadata": {},
     "output_type": "execute_result"
    }
   ],
   "source": [
    "random=rd.randint(0,1000)\n",
    "mean=np.mean(random)\n",
    "var= np.var(random)\n",
    "st.poisson.pmf(5,mean,var)"
   ]
  },
  {
   "cell_type": "markdown",
   "id": "67b10bde-f1aa-4b1b-a611-24cc66895ea1",
   "metadata": {},
   "source": [
    "Q9. How mean and variance are related in Binomial distribution and Poisson distribution?"
   ]
  },
  {
   "cell_type": "markdown",
   "id": "b37f58d9-094a-41e3-b12f-301d8edf1430",
   "metadata": {},
   "source": [
    "In a binomial distribution, there are only two possible outcomes, i.e. success or failure. Conversely, there are an unlimited number of possible outcomes in the case of poisson distribution. In binomial distribution Mean > Variance while in poisson distribution mean = variance"
   ]
  },
  {
   "cell_type": "markdown",
   "id": "323ee9fe-da0c-4ad6-82e0-0737a54dc4dd",
   "metadata": {},
   "source": [
    "Q10. In normal distribution with respect to mean position, where does the least frequent data appear?"
   ]
  },
  {
   "cell_type": "markdown",
   "id": "af75d4bc-a484-48a4-a5f6-0aca864b8851",
   "metadata": {},
   "source": [
    "This means that most of the observed data is clustered near the mean, while the data become less frequent when farther away from the mean"
   ]
  },
  {
   "cell_type": "code",
   "execution_count": null,
   "id": "be8e8e74-d453-4117-995e-2e87b234241e",
   "metadata": {},
   "outputs": [],
   "source": []
  }
 ],
 "metadata": {
  "kernelspec": {
   "display_name": "Python 3 (ipykernel)",
   "language": "python",
   "name": "python3"
  },
  "language_info": {
   "codemirror_mode": {
    "name": "ipython",
    "version": 3
   },
   "file_extension": ".py",
   "mimetype": "text/x-python",
   "name": "python",
   "nbconvert_exporter": "python",
   "pygments_lexer": "ipython3",
   "version": "3.10.8"
  }
 },
 "nbformat": 4,
 "nbformat_minor": 5
}
